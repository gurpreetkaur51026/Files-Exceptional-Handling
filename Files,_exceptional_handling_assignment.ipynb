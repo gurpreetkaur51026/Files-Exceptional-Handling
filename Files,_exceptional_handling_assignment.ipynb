{
  "nbformat": 4,
  "nbformat_minor": 0,
  "metadata": {
    "colab": {
      "provenance": []
    },
    "kernelspec": {
      "name": "python3",
      "display_name": "Python 3"
    },
    "language_info": {
      "name": "python"
    }
  },
  "cells": [
    {
      "cell_type": "markdown",
      "source": [
        "#Files, exceptional handling assignment\n",
        "\n",
        "#Theory Questions Answers"
      ],
      "metadata": {
        "id": "GFoo4tV5em2w"
      }
    },
    {
      "cell_type": "markdown",
      "source": [
        "**1. What is the difference between interpreted and compiled languages ?**\n",
        "\n",
        "**1.** **Execution Process:**\n",
        "\n",
        "- Compiled Languages: The code is first converted into machine code (executable) by a compiler, and then it runs on the computer.\n",
        "\n",
        "- Interpreted Languages: The code is executed line by line by an interpreter without converting it into a separate machine code file.\n",
        "\n",
        "**2. Speed:**\n",
        "\n",
        "- Compiled Languages: Usually faster because the program is already in machine code.\n",
        "\n",
        "- Interpreted Languages: Slower since the interpreter translates each line while running the program.\n",
        "\n",
        "**3. Errors:**\n",
        "\n",
        "- Compiled Languages: Errors are shown after the whole program is compiled.\n",
        "\n",
        "- Interpreted Languages: Errors are shown immediately when the code reaches that line.\n",
        "\n",
        "**Examples:**\n",
        "\n",
        "Compiled Languages: C, C++\n",
        "\n",
        "Interpreted Languages: Python, JavaScript"
      ],
      "metadata": {
        "id": "hU6AiUlTe28A"
      }
    },
    {
      "cell_type": "markdown",
      "source": [
        "**2. What is exception handling in Python ?**\n",
        "\n",
        "Exception handling in Python is a way to manage errors that occur during the execution of a program. Instead of the program stopping abruptly when an error occurs, it can handle the error and continue running.\n",
        "\n",
        "The code that might cause an error is written inside a try block. If an error occurs, the corresponding except block executes to handle it. An optional finally block can be used to run code regardless of whether an error occurred or not."
      ],
      "metadata": {
        "id": "KVYRflaEgM-d"
      }
    },
    {
      "cell_type": "code",
      "source": [
        "#for ex\n",
        "\n",
        "try:\n",
        "    num = int(input(\"Enter a number: \"))\n",
        "    print(10 / num)\n",
        "except ValueError:\n",
        "    print(\"Invalid input: not a number.\")\n",
        "except ZeroDivisionError:\n",
        "    print(\"Error: division by zero is not allowed.\")\n",
        "finally:\n",
        "    print(\"Execution of try-except block completed.\")"
      ],
      "metadata": {
        "colab": {
          "base_uri": "https://localhost:8080/"
        },
        "id": "O8UjuozthDMt",
        "outputId": "cba2be95-f7e9-4766-e65e-34c622d8faf4"
      },
      "execution_count": null,
      "outputs": [
        {
          "output_type": "stream",
          "name": "stdout",
          "text": [
            "Enter a number: 10\n",
            "1.0\n",
            "Execution of try-except block completed.\n"
          ]
        }
      ]
    },
    {
      "cell_type": "markdown",
      "source": [
        "**3. What is the purpose of the finally block in exception handling ?**\n",
        "\n",
        "The finally block is used to execute code that must run regardless of whether an exception occurred or not. It is placed after the try and except blocks. This is useful for tasks like closing files, releasing resources, or cleaning up, which should always happen even if an error occurs."
      ],
      "metadata": {
        "id": "l3W9Se1BhQ_y"
      }
    },
    {
      "cell_type": "code",
      "source": [
        "file = None\n",
        "try:\n",
        "    file = open(\"data.txt\", \"r\")\n",
        "    content = file.read()\n",
        "    print(content)\n",
        "except FileNotFoundError:\n",
        "    print(\"File not found.\")\n",
        "finally:\n",
        "    if file:\n",
        "        file.close()\n",
        "        print(\"File has been closed.\")\n"
      ],
      "metadata": {
        "colab": {
          "base_uri": "https://localhost:8080/"
        },
        "id": "r18OZ80NhiwU",
        "outputId": "b39a2017-e01f-4ea2-e311-a4c36a4b6d45"
      },
      "execution_count": null,
      "outputs": [
        {
          "output_type": "stream",
          "name": "stdout",
          "text": [
            "File not found.\n"
          ]
        }
      ]
    },
    {
      "cell_type": "markdown",
      "source": [
        "**4. What is logging in Python ?**\n",
        "\n",
        "Logging in Python is a way to record information about a program’s execution. It helps in tracking events, errors, or important messages while the program runs. Instead of printing messages using print(), the logging module provides a better and more flexible way to handle such information.\n",
        "\n",
        "It can record messages at different levels like DEBUG, INFO, WARNING, ERROR, and CRITICAL. These logs can be shown on the console or saved in a file for later analysis."
      ],
      "metadata": {
        "id": "NTrxEZRsiFZq"
      }
    },
    {
      "cell_type": "code",
      "source": [
        "#for ex\n",
        "\n",
        "import logging\n",
        "\n",
        "logging.basicConfig(filename='app.log', level=logging.INFO)\n",
        "logging.info(\"Program started successfully.\")\n",
        "logging.warning(\"Low disk space.\")\n",
        "logging.error(\"An error occurred while processing data.\")"
      ],
      "metadata": {
        "colab": {
          "base_uri": "https://localhost:8080/"
        },
        "id": "5iyPQ2pJig2z",
        "outputId": "e3222334-7476-4647-a317-73f4e09bf491"
      },
      "execution_count": null,
      "outputs": [
        {
          "output_type": "stream",
          "name": "stderr",
          "text": [
            "WARNING:root:Low disk space.\n",
            "ERROR:root:An error occurred while processing data.\n"
          ]
        }
      ]
    },
    {
      "cell_type": "markdown",
      "source": [
        "**5. What is the significance of the __del__ method in Python ?**\n",
        "\n",
        "The __del__ method in Python is also called a destructor. It is automatically called when an object is about to be destroyed or removed from memory. This method is mainly used to clean up resources like closing files, releasing network connections, or freeing up memory before the object is deleted."
      ],
      "metadata": {
        "id": "5jxUo6fHi06c"
      }
    },
    {
      "cell_type": "code",
      "source": [
        "#for ex\n",
        "\n",
        "class FileHandler:\n",
        "    def __init__(self, filename):\n",
        "        self.file = open(filename, 'w')\n",
        "        print(\"File opened.\")\n",
        "\n",
        "    def __del__(self):\n",
        "        self.file.close()\n",
        "        print(\"File closed and object destroyed.\")\n",
        "\n",
        "obj = FileHandler(\"data.txt\")\n",
        "del obj  # This will call __del__"
      ],
      "metadata": {
        "colab": {
          "base_uri": "https://localhost:8080/"
        },
        "id": "k7dRDc7ljGCb",
        "outputId": "cda29cdb-a0a9-4844-9cd0-0c415d24899f"
      },
      "execution_count": null,
      "outputs": [
        {
          "output_type": "stream",
          "name": "stdout",
          "text": [
            "File opened.\n",
            "File closed and object destroyed.\n"
          ]
        }
      ]
    },
    {
      "cell_type": "markdown",
      "source": [
        "**6. What is the difference between import and from ... import in Python ?**\n",
        "\n",
        "**import Statement:**\n",
        "\n",
        "- It imports the whole module.\n",
        "\n",
        "- To use anything from the module, the module name must be used as a prefix."
      ],
      "metadata": {
        "id": "vp_lWd3BjLBE"
      }
    },
    {
      "cell_type": "code",
      "source": [
        "#for ex\n",
        "\n",
        "import math\n",
        "print(math.sqrt(16))  # Using module name as prefix"
      ],
      "metadata": {
        "colab": {
          "base_uri": "https://localhost:8080/"
        },
        "id": "2meHYe5Vjs-N",
        "outputId": "ee9bfdf1-3706-4145-af89-974b59a1fce6"
      },
      "execution_count": null,
      "outputs": [
        {
          "output_type": "stream",
          "name": "stdout",
          "text": [
            "4.0\n"
          ]
        }
      ]
    },
    {
      "cell_type": "markdown",
      "source": [
        "**7. How can you handle multiple exceptions in Python ?**\n",
        "\n",
        "Python allows handling more than one type of exception in a program. This is done by using multiple except blocks or by handling multiple exceptions in a single except block.\n",
        "\n",
        "1. Using multiple except blocks:\n",
        "Each block handles a specific type of exception."
      ],
      "metadata": {
        "id": "whq5UqFYj2dZ"
      }
    },
    {
      "cell_type": "code",
      "source": [
        "try:\n",
        "    num = int(input(\"Enter a number: \"))\n",
        "    print(10 / num)\n",
        "except ValueError:\n",
        "    print(\"Invalid input: not a number.\")\n",
        "except ZeroDivisionError:\n",
        "    print(\"Cannot divide by zero.\")\n"
      ],
      "metadata": {
        "colab": {
          "base_uri": "https://localhost:8080/"
        },
        "id": "Cr4hLIqTkGH4",
        "outputId": "1c73deae-8cc0-4b50-c11a-e58598c9a82e"
      },
      "execution_count": null,
      "outputs": [
        {
          "output_type": "stream",
          "name": "stdout",
          "text": [
            "Enter a number: 10\n",
            "1.0\n"
          ]
        }
      ]
    },
    {
      "cell_type": "markdown",
      "source": [
        "2. Handling multiple exceptions in one except block:\n",
        "A single block can handle several exceptions using parentheses."
      ],
      "metadata": {
        "id": "rDMTMHiykUDU"
      }
    },
    {
      "cell_type": "code",
      "source": [
        "#for ex\n",
        "\n",
        "try:\n",
        "    num = int(input(\"Enter a number: \"))\n",
        "    print(10 / num)\n",
        "except (ValueError, ZeroDivisionError):\n",
        "    print(\"An error occurred: invalid input or division by zero.\")\n"
      ],
      "metadata": {
        "colab": {
          "base_uri": "https://localhost:8080/"
        },
        "id": "6mY-84smkZVJ",
        "outputId": "10849ca3-2b8f-42f4-af57-268133aac454"
      },
      "execution_count": null,
      "outputs": [
        {
          "output_type": "stream",
          "name": "stdout",
          "text": [
            "Enter a number: 10\n",
            "1.0\n"
          ]
        }
      ]
    },
    {
      "cell_type": "markdown",
      "source": [
        "**8. What is the purpose of the with statement when handling files in Python ?**\n",
        "\n",
        "The with statement is used to work with files in Python in a clean and safe way. It automatically takes care of opening and closing the file, even if an error occurs while working with it. This avoids the need to explicitly call file.close() and reduces the chances of mistakes."
      ],
      "metadata": {
        "id": "ZtKkQWHmkjD3"
      }
    },
    {
      "cell_type": "code",
      "source": [
        "#for ex\n",
        "\n",
        "with open(\"data.txt\", \"r\") as file:\n",
        "    content = file.read()\n",
        "    print(content)\n",
        "# File is automatically closed here"
      ],
      "metadata": {
        "colab": {
          "base_uri": "https://localhost:8080/"
        },
        "id": "_pbwwMQDlXSO",
        "outputId": "5da59953-06b2-4450-c662-63134c8fc5bc"
      },
      "execution_count": null,
      "outputs": [
        {
          "output_type": "stream",
          "name": "stdout",
          "text": [
            "\n"
          ]
        }
      ]
    },
    {
      "cell_type": "markdown",
      "source": [
        "**9. What is the difference between multithreading and multiprocessing ?**\n",
        "\n",
        "**1. Definition:**\n",
        "\n",
        "- **Multithreading**: Running multiple threads (smaller units of a process) within the same program simultaneously.\n",
        "\n",
        "- **Multiprocessing:** Running multiple processes (independent programs) at the same time.\n",
        "\n",
        "**2. Memory Usage:**\n",
        "\n",
        "- **Multithreading:** Threads share the same memory space, so it uses less memory.\n",
        "\n",
        "- **Multiprocessing**: Each process has its own memory space, so it uses more memory.\n",
        "\n",
        "**3. Speed and Performance:**\n",
        "\n",
        "- **Multithreading:** Good for tasks that are I/O bound (like reading files, network requests).\n",
        "\n",
        "- **Multiprocessing:** Better for CPU-bound tasks (like heavy calculations) because it can use multiple cores.\n",
        "\n",
        "**4. Crash impact:**\n",
        "\n",
        "- **Multithreading:** If one thread crashes, it can affect the entire program.\n",
        "\n",
        "- **Multiprocessing:** If one process crashes, others continue running independently."
      ],
      "metadata": {
        "id": "BfRaSvyClh_R"
      }
    },
    {
      "cell_type": "markdown",
      "source": [
        "**10. What are the advantages of using logging in a program ?**\n",
        "\n",
        "Logging is used in programs to record important events or messages while the program is running. It helps developers understand what is happening in the code without using print statements everywhere.\n",
        "- **Helps in debugging**:\n",
        "Logs show errors and program flow, which makes it easier to find and fix problems.\n",
        "\n",
        "- **Keeps record of activities**:\n",
        "It stores messages like when a function starts, when errors occur, or when a user performs an action. These records are useful for future reference.\n",
        "\n",
        "- **Customizable levels**:\n",
        "Logging allows different levels like DEBUG, INFO, WARNING, ERROR, and CRITICAL. This helps control what kind of messages are shown or saved.\n",
        "\n",
        "- **Better than print statements**:\n",
        "Unlike print statements, logging can be turned on or off and can write to files instead of just the screen.\n",
        "\n",
        "- **Useful in large applications**:\n",
        "In complex programs, logging helps monitor performance and detect issues even after the program has been deployed."
      ],
      "metadata": {
        "id": "rGPSrZpqdn5d"
      }
    },
    {
      "cell_type": "markdown",
      "source": [
        "**11. What is memory management in Python ?**\n",
        "\n",
        "Memory management in Python means handling how and where data is stored in the computer’s memory while the program runs. Python automatically manages memory for variables, objects, and data structures, so the programmer doesn’t have to do it manually."
      ],
      "metadata": {
        "id": "rKfKDyQgf5Kh"
      }
    },
    {
      "cell_type": "code",
      "source": [
        "#for ex\n",
        "a = [1, 2, 3]\n",
        "b = a\n",
        "del a\n",
        "# The list still exists because 'b' refers to it"
      ],
      "metadata": {
        "id": "bOC5wCibhxwb"
      },
      "execution_count": null,
      "outputs": []
    },
    {
      "cell_type": "markdown",
      "source": [
        "**12. What are the basic steps involved in exception handling in Python ?**\n",
        "\n",
        "Exception handling in Python is used to manage errors that occur while a program is running. It helps prevent the program from crashing and allows it to handle unexpected situations smoothly.\n",
        "\n",
        "The basic steps involved are:\n",
        "\n",
        "- **Write code that may cause an error inside a try block:**\n",
        "The statements that might raise an exception are placed inside the try block.\n",
        "\n",
        "- **Catch the exception using an except block:**\n",
        "If an error occurs, the except block runs instead of stopping the program.\n",
        "\n",
        "- **Use else (optional):**\n",
        "The else block runs if no exception occurs in the try block.\n",
        "\n",
        "- **Use finally (optional):**\n",
        "The finally block runs no matter what happens — useful for cleanup tasks like closing files."
      ],
      "metadata": {
        "id": "8KlSMHu0ru_o"
      }
    },
    {
      "cell_type": "markdown",
      "source": [
        "13. Why is memory management important in Python ?\n",
        "\n",
        "Memory management is important in Python because it helps the program use the computer’s memory efficiently. When memory is handled properly, the program runs faster and avoids problems like crashes or slow performance.\n",
        "\n",
        "**- Prevents memory leaks:**\n",
        "Proper management ensures that unused memory is freed, so the program doesn’t keep occupying space unnecessarily.\n",
        "\n",
        "**-Improves performance:**\n",
        "Efficient memory use helps Python programs run smoothly without slowing down due to lack of available memory.\n",
        "\n",
        "**- Ensures stability:**\n",
        "If memory is not managed properly, the program can crash or behave unexpectedly. Python’s memory manager and garbage collector help prevent such issues.\n",
        "\n",
        "**- Automatic cleanup:**\n",
        "Python automatically deletes unreferenced objects, saving developers from doing manual memory handling like in other languages."
      ],
      "metadata": {
        "id": "A95873KwtPnp"
      }
    },
    {
      "cell_type": "markdown",
      "source": [
        "**14. What is the role of try and except in exception handling ?**\n",
        "\n",
        "In Python, the try and except blocks are the main parts of exception handling. They are used to catch and handle errors so that the program doesn’t stop unexpectedly.\n",
        "\n",
        "**try block:**\n",
        "\n",
        "The code that might cause an error is written inside the try block.\n",
        "\n",
        "Python first runs the code inside try. If everything works fine, the except part is skipped.\n",
        "\n",
        "**except block:**\n",
        "\n",
        "If an error occurs in the try block, the program jumps to the except block.\n",
        "\n",
        "This block handles the error by showing a message or performing another action instead of crashing."
      ],
      "metadata": {
        "id": "LOnpaOnwuPVA"
      }
    },
    {
      "cell_type": "markdown",
      "source": [
        "**15.How does Python's garbage collection system work ?**\n",
        "\n",
        "Python’s garbage collection system automatically manages memory by cleaning up objects that are no longer needed. This helps prevent memory leaks and keeps the program running efficiently.\n",
        "\n",
        "1. **Reference counting:**\n",
        "\n",
        "- Every object in Python has a reference count (how many variables are pointing to it).\n",
        "\n",
        "- When this count becomes zero, the object is deleted automatically because nothing is using it.\n",
        "\n",
        "**2. Garbage collector:**\n",
        "\n",
        "- Sometimes, objects refer to each other (called circular references), so their count never reaches zero.\n",
        "\n",
        "- Python’s garbage collector detects these unused circular references and removes them to free memory.\n",
        "\n",
        "**3. Automatic process:**\n",
        "\n",
        "- The garbage collector runs automatically in the background, but developers can also control it using the gc module if needed."
      ],
      "metadata": {
        "id": "JYO24A0ivuuJ"
      }
    },
    {
      "cell_type": "markdown",
      "source": [
        "**16. What is the purpose of the else block in exception handling ?**\n",
        "\n",
        "The else block in exception handling is used to run code only when no exception occurs in the try block. It helps separate normal code from error-handling code and makes the program easier to read.\n",
        "\n",
        "**1. Runs only if no error occurs:**\n",
        "The else block executes when all statements inside the try block run successfully without any exception.\n",
        "\n",
        "**2. Keeps code organized:**\n",
        "By putting normal code in the else block and error-handling code in except, it becomes clear which part is for successful execution and which part is for handling errors.\n",
        "\n",
        "**3. Prevents confusion:**\n",
        "Using else avoids mixing regular logic with exception-handling logic inside the try block."
      ],
      "metadata": {
        "id": "Xu54WWCQyEh4"
      }
    },
    {
      "cell_type": "markdown",
      "source": [
        "**17. What are the common logging levels in Python ?**\n",
        "\n",
        "In Python, logging levels are used to categorize the importance or severity of the messages recorded by the logging system. Each level represents a different type of information, from general program details to serious errors.\n",
        "\n",
        "**Common logging levels**:\n",
        "\n",
        "**1. DEBUG**:\n",
        "Used for detailed information, usually helpful for developers while debugging the program.\n",
        "Example – logging variable values or function calls.\n",
        "\n",
        "**2. INFO**:\n",
        "Shows general information about the program’s progress, like successful operations.\n",
        "Example – “File uploaded successfully.”\n",
        "\n",
        "**3. WARNING**:\n",
        "Indicates something unexpected happened, but the program can still continue running.\n",
        "Example – “Low disk space.”\n",
        "\n",
        "**4. ERROR**:\n",
        "Shows serious problems that prevent some part of the program from working properly.\n",
        "Example – “File not found.”\n",
        "\n",
        "**5. CRITICAL**:\n",
        "Represents very serious errors that might stop the program completely.\n",
        "Example – “System crash detected.”"
      ],
      "metadata": {
        "id": "iL17CbJpzxZX"
      }
    },
    {
      "cell_type": "markdown",
      "source": [
        "**18. What is the difference between os.fork() and multiprocessing in Python ?**\n",
        "\n",
        "Both os.fork() and the multiprocessing module are used to create new processes in Python, but they work differently and have different use cases.\n",
        "\n",
        "1. **os.fork()**\n",
        "\n",
        "- os.fork() is a low-level method available on Unix/Linux systems.\n",
        "\n",
        "- It creates a child process by duplicating the current process.\n",
        "\n",
        "- Both parent and child processes share the same memory initially, but changes after forking are independent.\n",
        "\n",
        "- Only works on Unix/Linux, not on Windows.\n",
        "\n",
        "- Less flexible and harder to manage in large programs."
      ],
      "metadata": {
        "id": "uroOAtWY00Ea"
      }
    },
    {
      "cell_type": "code",
      "source": [
        "#for ex\n",
        "import os\n",
        "\n",
        "pid = os.fork()\n",
        "if pid == 0:\n",
        "    print(\"Child process\")\n",
        "else:\n",
        "    print(\"Parent process\")\n"
      ],
      "metadata": {
        "colab": {
          "base_uri": "https://localhost:8080/"
        },
        "id": "WVfLxF_q2YeZ",
        "outputId": "ea7b7d48-a16f-464f-dfb2-67517f87c17b"
      },
      "execution_count": null,
      "outputs": [
        {
          "output_type": "stream",
          "name": "stdout",
          "text": [
            "Parent process\n"
          ]
        },
        {
          "output_type": "stream",
          "name": "stderr",
          "text": [
            "/tmp/ipython-input-709603560.py:4: DeprecationWarning: This process (pid=746) is multi-threaded, use of fork() may lead to deadlocks in the child.\n",
            "  pid = os.fork()\n"
          ]
        },
        {
          "output_type": "stream",
          "name": "stdout",
          "text": [
            "Child process\n"
          ]
        }
      ]
    },
    {
      "cell_type": "markdown",
      "source": [
        "**2. multiprocessing module**\n",
        "\n",
        "- A high-level, cross-platform module to create processes.\n",
        "\n",
        "- Each process runs independently with its own memory space.\n",
        "\n",
        "- Works on both Unix/Linux and Windows.\n",
        "\n",
        "- Easier to manage multiple processes and communicate between them using queues or pipes."
      ],
      "metadata": {
        "id": "fv5xXfNm2fxp"
      }
    },
    {
      "cell_type": "code",
      "source": [
        "#for ex\n",
        "from multiprocessing import Process\n",
        "\n",
        "def greet():\n",
        "    print(\"Hello from process\")\n",
        "\n",
        "p = Process(target=greet)\n",
        "p.start()\n",
        "p.join()\n"
      ],
      "metadata": {
        "colab": {
          "base_uri": "https://localhost:8080/"
        },
        "id": "BKJX8Ma_2n6j",
        "outputId": "1c237b77-716f-4c05-a136-4f7245442dc7"
      },
      "execution_count": null,
      "outputs": [
        {
          "output_type": "stream",
          "name": "stdout",
          "text": [
            "Hello from process\n"
          ]
        }
      ]
    },
    {
      "cell_type": "markdown",
      "source": [
        "**19. What is the importance of closing a file in Python ?**\n",
        "\n",
        "Closing a file in Python is important because it ensures that all data written to the file is properly saved and that system resources are released. When a file remains open, data stored in the buffer may not be fully written, which can lead to data loss or file corruption. Closing the file also frees up memory and file handles, making the program more efficient and preventing potential errors. Using the `with` statement is often recommended because it automatically closes the file once the block of code is executed."
      ],
      "metadata": {
        "id": "le-DR73f2tpj"
      }
    },
    {
      "cell_type": "markdown",
      "source": [
        "**20. What is the difference between file.read() and file.readline() in Python ?**\n",
        "\n",
        "The main difference between file.read() and file.readline() in Python is how much data they read from a file. The file.read() method reads the entire file content as a single string, or a specified number of characters if given a size argument. In contrast, file.readline() reads only one line from the file at a time, stopping when it reaches a newline character (\\n)."
      ],
      "metadata": {
        "id": "W2ZU-NLdkfTL"
      }
    },
    {
      "cell_type": "markdown",
      "source": [
        "**21. What is the logging module in Python used for ?**\n",
        "\n",
        "The logging module in Python is used to keep track of what’s happening in a program while it runs. It helps record important messages like errors, warnings, or general information, which makes finding and fixing problems easier. Instead of just using print statements, logging lets you save these messages to a file or show them on the screen with different levels like info, warning, or error. It’s really helpful when working on big programs because it helps you understand what went wrong and when."
      ],
      "metadata": {
        "id": "nwR7CwUTlK3J"
      }
    },
    {
      "cell_type": "markdown",
      "source": [
        "**22. What is the os module in Python used for in file handling ?**\n",
        "\n",
        "The os module in Python is used to interact with the operating system and perform tasks related to files and folders. It allows working with the file system easily, like creating, deleting, renaming, or checking if a file or directory exists. In file handling, the os module helps manage files beyond just reading or writing them.\n",
        "\n",
        "For example, you can use it to create a new folder, remove a file, or get the current working directory."
      ],
      "metadata": {
        "id": "iBkDytqhlh0C"
      }
    },
    {
      "cell_type": "markdown",
      "source": [
        "**23. What are the challenges associated with memory management in Python ?**\n",
        "\n",
        "Memory management in Python can be challenging because the language handles most of it automatically, but some issues can still arise. One major challenge is **memory leaks**, which happen when objects are no longer needed but not properly released. Another issue is **circular references**, where two or more objects reference each other, making it hard for the garbage collector to free them.\n",
        "\n",
        "Python’s **dynamic memory allocation** can also lead to high memory usage if large or unnecessary objects are created. Managing memory efficiently in long-running programs or when handling large data sets can be tricky. Developers need to be careful with object references, use tools like `gc` (garbage collector), and write optimized code to avoid wasting memory."
      ],
      "metadata": {
        "id": "_NCXQzMqmKm3"
      }
    },
    {
      "cell_type": "markdown",
      "source": [
        "**24.  How do you raise an exception manually in Python ?**\n",
        "\n",
        "In Python, an exception can be raised manually using the raise keyword. This is done when there’s a need to stop the program and signal that something went wrong, even if Python doesn’t detect an error automatically. It’s often used for custom error checking or validation."
      ],
      "metadata": {
        "id": "49EcqXu7me7_"
      }
    },
    {
      "cell_type": "markdown",
      "source": [
        "**25. Why is it important to use multithreading in certain applications ?**\n",
        "\n",
        "Multithreading is important in certain applications because it allows a program to perform multiple tasks at the same time, improving efficiency and responsiveness. It’s especially useful when tasks can run independently, such as downloading files, handling user input, or performing background calculations.\n",
        "\n",
        "By using multiple threads, a program can make better use of system resources and stay responsive even when one part is busy. For example, in a web browser, one thread can load a webpage while another handles user interactions, making the experience smoother and faster."
      ],
      "metadata": {
        "id": "qvNTuLw6mvz4"
      }
    },
    {
      "cell_type": "markdown",
      "source": [
        "# Practical Questions"
      ],
      "metadata": {
        "id": "eGHRerctnBM6"
      }
    },
    {
      "cell_type": "code",
      "source": [
        "# 1. How can you open a file for writing in Python and write a string to it ?\n",
        "\n",
        "# Open a file in write mode\n",
        "file = open(\"example.txt\", \"w\")\n",
        "\n",
        "# Write a string to the file\n",
        "file.write(\"Hello, Python!\")\n",
        "\n",
        "# Close the file to save changes\n",
        "file.close()\n"
      ],
      "metadata": {
        "id": "XNG8e2VJnMxF"
      },
      "execution_count": 3,
      "outputs": []
    },
    {
      "cell_type": "code",
      "source": [
        "# 2. Write a Python program to read the contents of a file and print each line\n",
        "\n",
        "with open(\"sample.txt\", \"w\") as file:\n",
        "    file.write(\"Line 1: Hello Python\\n\")\n",
        "    file.write(\"Line 2: This is a sample file\\n\")\n",
        "    file.write(\"Line 3: File reading example\\n\")\n",
        "\n",
        "\n",
        "with open(\"sample.txt\", \"r\") as file:\n",
        "    for line in file:\n",
        "        print(line.strip())"
      ],
      "metadata": {
        "colab": {
          "base_uri": "https://localhost:8080/"
        },
        "id": "5ZWbceZ8oNY1",
        "outputId": "78e19b35-3981-4ecd-93f3-7d48eb0ab3ff"
      },
      "execution_count": 5,
      "outputs": [
        {
          "output_type": "stream",
          "name": "stdout",
          "text": [
            "Line 1: Hello Python\n",
            "Line 2: This is a sample file\n",
            "Line 3: File reading example\n"
          ]
        }
      ]
    },
    {
      "cell_type": "code",
      "source": [
        "# 3. How would you handle a case where the file doesn't exist while trying to open it for reading ?\n",
        "\n",
        "try:\n",
        "    with open(\"nonexistent.txt\", \"r\") as file:\n",
        "        for line in file:\n",
        "            print(line.strip())\n",
        "except FileNotFoundError:\n",
        "    print(\"The file does not exist. Please check the file name.\")"
      ],
      "metadata": {
        "colab": {
          "base_uri": "https://localhost:8080/"
        },
        "id": "ZJw5qwBBou3b",
        "outputId": "e666063f-244c-4d81-a252-0d6d749db8c4"
      },
      "execution_count": 6,
      "outputs": [
        {
          "output_type": "stream",
          "name": "stdout",
          "text": [
            "The file does not exist. Please check the file name.\n"
          ]
        }
      ]
    },
    {
      "cell_type": "code",
      "source": [
        "# 4. Write a Python script that reads from one file and writes its content to another file\n",
        "\n",
        "# Create the source file with some content\n",
        "with open(\"source.txt\", \"w\") as source_file:\n",
        "    source_file.write(\"This is line 1 in the source file.\\n\")\n",
        "    source_file.write(\"This is line 2 in the source file.\\n\")\n",
        "    source_file.write(\"This is line 3 in the source file.\\n\")\n",
        "\n",
        "# Read from source.txt and write to destination.txt\n",
        "with open(\"source.txt\", \"r\") as source_file, open(\"destination.txt\", \"w\") as dest_file:\n",
        "    for line in source_file:\n",
        "        dest_file.write(line)\n",
        "\n",
        "print(\"Content copied from source.txt to destination.txt successfully.\")"
      ],
      "metadata": {
        "colab": {
          "base_uri": "https://localhost:8080/"
        },
        "id": "xaUCfnH0rJ3F",
        "outputId": "9a533050-4129-4f84-8093-7acef74e0735"
      },
      "execution_count": 7,
      "outputs": [
        {
          "output_type": "stream",
          "name": "stdout",
          "text": [
            "Content copied from source.txt to destination.txt successfully.\n"
          ]
        }
      ]
    },
    {
      "cell_type": "code",
      "source": [
        "# 5. How would you catch and handle division by zero error in Python ?\n",
        "\n",
        "# In Python, you can catch a division by zero error using a try and except block. This prevents the program from crashing and allows you to handle the error gracefully.\n",
        "\n",
        "try:\n",
        "    result = 10 / 0  # This will cause a division by zero error\n",
        "except ZeroDivisionError:\n",
        "    print(\"Error: Cannot divide by zero!\")\n",
        "else:\n",
        "    print(\"Result is:\", result)\n"
      ],
      "metadata": {
        "colab": {
          "base_uri": "https://localhost:8080/"
        },
        "id": "EitUeOf_rYgH",
        "outputId": "f1116d55-c103-4e7b-a1df-2ead2fa156e2"
      },
      "execution_count": 8,
      "outputs": [
        {
          "output_type": "stream",
          "name": "stdout",
          "text": [
            "Error: Cannot divide by zero!\n"
          ]
        }
      ]
    },
    {
      "cell_type": "code",
      "source": [
        "# 6. Write a Python program that logs an error message to a log file when a division by zero exception occurs\n",
        "\n",
        "import logging\n",
        "\n",
        "# Configure logging to write to a file\n",
        "logging.basicConfig(filename=\"error_log.txt\", level=logging.ERROR,\n",
        "                    format=\"%(asctime)s - %(levelname)s - %(message)s\")\n",
        "\n",
        "try:\n",
        "    result = 10 / 0  # This will cause a division by zero error\n",
        "except ZeroDivisionError as e:\n",
        "    logging.error(\"Division by zero occurred: %s\", e)\n",
        "    print(\"An error occurred. Check error_log.txt for details.\")\n",
        "else:\n",
        "    print(\"Result is:\", result)\n"
      ],
      "metadata": {
        "colab": {
          "base_uri": "https://localhost:8080/"
        },
        "id": "cspdAuANtSjE",
        "outputId": "4c67229b-f860-4ede-fa4a-773138baf732"
      },
      "execution_count": 9,
      "outputs": [
        {
          "output_type": "stream",
          "name": "stderr",
          "text": [
            "ERROR:root:Division by zero occurred: division by zero\n"
          ]
        },
        {
          "output_type": "stream",
          "name": "stdout",
          "text": [
            "An error occurred. Check error_log.txt for details.\n"
          ]
        }
      ]
    },
    {
      "cell_type": "code",
      "source": [
        "# 7. How do you log information at different levels (INFO, ERROR, WARNING) in Python using the logging module\n",
        "\n",
        "# In Python, the logging module allows logging messages at different levels like INFO, WARNING, and ERROR. Each level indicates the importance or severity of the message.\n",
        "\n",
        "import logging\n",
        "\n",
        "# Configure logging to write to a file\n",
        "logging.basicConfig(filename=\"app_log.txt\", level=logging.DEBUG,\n",
        "                    format=\"%(asctime)s - %(levelname)s - %(message)s\")\n",
        "\n",
        "# Log messages at different levels\n",
        "logging.info(\"This is an info message.\")\n",
        "logging.warning(\"This is a warning message.\")\n",
        "logging.error(\"This is an error message.\")\n"
      ],
      "metadata": {
        "colab": {
          "base_uri": "https://localhost:8080/"
        },
        "id": "vwrlG3KYt1AV",
        "outputId": "aa7ef5a3-bf3f-47f7-809d-a6a45d045009"
      },
      "execution_count": 10,
      "outputs": [
        {
          "output_type": "stream",
          "name": "stderr",
          "text": [
            "WARNING:root:This is a warning message.\n",
            "ERROR:root:This is an error message.\n"
          ]
        }
      ]
    },
    {
      "cell_type": "code",
      "source": [
        "# 8. Write a program to handle a file opening error using exception handling\n",
        "\n",
        "try:\n",
        "    # Attempt to open a file that may not exist\n",
        "    with open(\"missing_file.txt\", \"r\") as file:\n",
        "        content = file.read()\n",
        "        print(content)\n",
        "except FileNotFoundError:\n",
        "    print(\"Error: The file does not exist. Please check the file name.\")\n"
      ],
      "metadata": {
        "colab": {
          "base_uri": "https://localhost:8080/"
        },
        "id": "9rDItGz0uQPB",
        "outputId": "aefc4b88-d58c-4417-9982-dff7dfaafd90"
      },
      "execution_count": 11,
      "outputs": [
        {
          "output_type": "stream",
          "name": "stdout",
          "text": [
            "Error: The file does not exist. Please check the file name.\n"
          ]
        }
      ]
    },
    {
      "cell_type": "code",
      "source": [
        "# 9. How can you read a file line by line and store its content in a list in Python\n",
        "\n",
        "# Create a sample file first\n",
        "with open(\"sample.txt\", \"w\") as file:\n",
        "    file.write(\"Line 1: Python\\n\")\n",
        "    file.write(\"Line 2: File handling\\n\")\n",
        "    file.write(\"Line 3: Example\\n\")\n",
        "\n",
        "# Read the file line by line and store in a list\n",
        "lines_list = []\n",
        "with open(\"sample.txt\", \"r\") as file:\n",
        "    for line in file:\n",
        "        lines_list.append(line.strip())  # Remove newline characters\n",
        "\n",
        "# Print the list\n",
        "print(lines_list)"
      ],
      "metadata": {
        "colab": {
          "base_uri": "https://localhost:8080/"
        },
        "id": "4DrAR8M2vlZY",
        "outputId": "d4118c67-568c-4bd8-edcf-416bf0a2e9d5"
      },
      "execution_count": 12,
      "outputs": [
        {
          "output_type": "stream",
          "name": "stdout",
          "text": [
            "['Line 1: Python', 'Line 2: File handling', 'Line 3: Example']\n"
          ]
        }
      ]
    },
    {
      "cell_type": "code",
      "source": [
        "# 10. How can you append data to an existing file in Python\n",
        "\n",
        "# You can append data to an existing file in Python using the \"a\" (append) mode with the open() function. This adds new content at the end of the file without deleting the existing data.\n",
        "\n",
        "# Create a sample file with initial content\n",
        "with open(\"data.txt\", \"w\") as file:\n",
        "    file.write(\"Line 1: Original content\\n\")\n",
        "\n",
        "# Append new data to the existing file\n",
        "with open(\"data.txt\", \"a\") as file:\n",
        "    file.write(\"Line 2: Appended content\\n\")\n",
        "    file.write(\"Line 3: More appended content\\n\")\n",
        "\n",
        "# Read the file to check the content\n",
        "with open(\"data.txt\", \"r\") as file:\n",
        "    print(file.read())\n"
      ],
      "metadata": {
        "colab": {
          "base_uri": "https://localhost:8080/"
        },
        "id": "-zK0DcZBv1Zy",
        "outputId": "bc07f217-2a6c-4140-caaf-1d6200f52a9b"
      },
      "execution_count": 13,
      "outputs": [
        {
          "output_type": "stream",
          "name": "stdout",
          "text": [
            "Line 1: Original content\n",
            "Line 2: Appended content\n",
            "Line 3: More appended content\n",
            "\n"
          ]
        }
      ]
    },
    {
      "cell_type": "code",
      "source": [
        "# 11. Write a Python program that uses a try-except block to handle an error when attempting to access a dictionary key that doesn't exist\n",
        "\n",
        "# Sample dictionary\n",
        "my_dict = {\"name\": \"Alice\", \"age\": 25}\n",
        "\n",
        "try:\n",
        "    # Attempt to access a key that may not exist\n",
        "    print(\"Address:\", my_dict[\"address\"])\n",
        "except KeyError:\n",
        "    print(\"Error: The key 'address' does not exist in the dictionary.\")\n"
      ],
      "metadata": {
        "colab": {
          "base_uri": "https://localhost:8080/"
        },
        "id": "pyzJT83wwG2P",
        "outputId": "8a5cbbb4-9f69-4cf9-84a1-65339a44a316"
      },
      "execution_count": 14,
      "outputs": [
        {
          "output_type": "stream",
          "name": "stdout",
          "text": [
            "Error: The key 'address' does not exist in the dictionary.\n"
          ]
        }
      ]
    },
    {
      "cell_type": "code",
      "source": [
        "# 12. Write a program that demonstrates using multiple except blocks to handle different types of exceptions\n",
        "\n",
        "try:\n",
        "    # Example operations that may cause exceptions\n",
        "    num = 10\n",
        "    divisor = 0\n",
        "    result = num / divisor            # May cause ZeroDivisionError\n",
        "    my_list = [1, 2, 3]\n",
        "    print(my_list[5])                 # May cause IndexError\n",
        "except ZeroDivisionError:\n",
        "    print(\"Error: Cannot divide by zero!\")\n",
        "except IndexError:\n",
        "    print(\"Error: List index is out of range!\")\n",
        "except Exception as e:\n",
        "    print(\"An unexpected error occurred:\", e)"
      ],
      "metadata": {
        "colab": {
          "base_uri": "https://localhost:8080/"
        },
        "id": "VBujT2tWwVog",
        "outputId": "d4f9828c-b0f5-4fab-fe6c-354bf9d29c5a"
      },
      "execution_count": 15,
      "outputs": [
        {
          "output_type": "stream",
          "name": "stdout",
          "text": [
            "Error: Cannot divide by zero!\n"
          ]
        }
      ]
    },
    {
      "cell_type": "code",
      "source": [
        "# 13.  How would you check if a file exists before attempting to read it in Python\n",
        "\n",
        "# In Python, you can check if a file exists before reading it using the os.path.exists() function from the os module. This prevents errors if the file is missing\n",
        "\n",
        "import os\n",
        "\n",
        "filename = \"example.txt\"\n",
        "\n",
        "if os.path.exists(filename):\n",
        "    with open(filename, \"r\") as file:\n",
        "        content = file.read()\n",
        "        print(content)\n",
        "else:\n",
        "    print(\"The file does not exist.\")"
      ],
      "metadata": {
        "colab": {
          "base_uri": "https://localhost:8080/"
        },
        "id": "LNUHcIrkwgBz",
        "outputId": "469254ef-0430-4fac-da2b-6e0755ddbfbc"
      },
      "execution_count": 16,
      "outputs": [
        {
          "output_type": "stream",
          "name": "stdout",
          "text": [
            "Hello, Python!\n"
          ]
        }
      ]
    },
    {
      "cell_type": "code",
      "source": [
        "# 14. Write a program that uses the logging module to log both informational and error messages\n",
        "\n",
        "import logging\n",
        "\n",
        "# Configure logging to write to a file\n",
        "logging.basicConfig(filename=\"app_log.txt\", level=logging.DEBUG,\n",
        "                    format=\"%(asctime)s - %(levelname)s - %(message)s\")\n",
        "\n",
        "# Log an informational message\n",
        "logging.info(\"Program started successfully.\")\n",
        "\n",
        "try:\n",
        "    result = 10 / 0  # This will cause an error\n",
        "except ZeroDivisionError as e:\n",
        "    logging.error(\"An error occurred: %s\", e)\n",
        "\n",
        "# Log another informational message\n",
        "logging.info(\"Program finished execution.\")"
      ],
      "metadata": {
        "colab": {
          "base_uri": "https://localhost:8080/"
        },
        "id": "GHWpD75ewxGR",
        "outputId": "44026078-e143-45c4-c006-2cc5cbed2b1a"
      },
      "execution_count": 17,
      "outputs": [
        {
          "output_type": "stream",
          "name": "stderr",
          "text": [
            "ERROR:root:An error occurred: division by zero\n"
          ]
        }
      ]
    },
    {
      "cell_type": "code",
      "source": [
        "# 15. Write a Python program that prints the content of a file and handles the case when the file is empty\n",
        "\n",
        "# Create a sample file (empty for demonstration)\n",
        "with open(\"empty_file.txt\", \"w\") as file:\n",
        "    pass  # Leave the file empty\n",
        "\n",
        "# Open the file and check its content\n",
        "with open(\"empty_file.txt\", \"r\") as file:\n",
        "    content = file.read()\n",
        "\n",
        "if content:\n",
        "    print(\"File content:\\n\", content)\n",
        "else:\n",
        "    print(\"The file is empty.\")"
      ],
      "metadata": {
        "colab": {
          "base_uri": "https://localhost:8080/"
        },
        "id": "H_JLIifMxDPA",
        "outputId": "333be3d3-4c8f-4346-d85e-8068d9313360"
      },
      "execution_count": 18,
      "outputs": [
        {
          "output_type": "stream",
          "name": "stdout",
          "text": [
            "The file is empty.\n"
          ]
        }
      ]
    },
    {
      "cell_type": "code",
      "source": [
        "# 16. Demonstrate how to use memory profiling to check the memory usage of a small program\n",
        "\n",
        "from memory_profiler import profile\n",
        "\n",
        "@profile\n",
        "def my_function():\n",
        "    # Create a list of numbers\n",
        "    numbers = [i for i in range(100000)]\n",
        "    total = sum(numbers)\n",
        "    print(\"Sum:\", total)\n",
        "\n",
        "# Call the function\n",
        "my_function()"
      ],
      "metadata": {
        "colab": {
          "base_uri": "https://localhost:8080/",
          "height": 401
        },
        "id": "3Y2MBCj2xP3R",
        "outputId": "fbaccc5a-68e6-4b1b-8508-6a4ff4a4fe44"
      },
      "execution_count": 20,
      "outputs": [
        {
          "output_type": "error",
          "ename": "ModuleNotFoundError",
          "evalue": "No module named 'memory_profiler'",
          "traceback": [
            "\u001b[0;31m---------------------------------------------------------------------------\u001b[0m",
            "\u001b[0;31mModuleNotFoundError\u001b[0m                       Traceback (most recent call last)",
            "\u001b[0;32m/tmp/ipython-input-1454098709.py\u001b[0m in \u001b[0;36m<cell line: 0>\u001b[0;34m()\u001b[0m\n\u001b[1;32m      1\u001b[0m \u001b[0;31m# 16. Demonstrate how to use memory profiling to check the memory usage of a small program\u001b[0m\u001b[0;34m\u001b[0m\u001b[0;34m\u001b[0m\u001b[0m\n\u001b[1;32m      2\u001b[0m \u001b[0;34m\u001b[0m\u001b[0m\n\u001b[0;32m----> 3\u001b[0;31m \u001b[0;32mfrom\u001b[0m \u001b[0mmemory_profiler\u001b[0m \u001b[0;32mimport\u001b[0m \u001b[0mprofile\u001b[0m\u001b[0;34m\u001b[0m\u001b[0;34m\u001b[0m\u001b[0m\n\u001b[0m\u001b[1;32m      4\u001b[0m \u001b[0;34m\u001b[0m\u001b[0m\n\u001b[1;32m      5\u001b[0m \u001b[0;34m@\u001b[0m\u001b[0mprofile\u001b[0m\u001b[0;34m\u001b[0m\u001b[0;34m\u001b[0m\u001b[0m\n",
            "\u001b[0;31mModuleNotFoundError\u001b[0m: No module named 'memory_profiler'",
            "",
            "\u001b[0;31m---------------------------------------------------------------------------\u001b[0;32m\nNOTE: If your import is failing due to a missing package, you can\nmanually install dependencies using either !pip or !apt.\n\nTo view examples of installing some common dependencies, click the\n\"Open Examples\" button below.\n\u001b[0;31m---------------------------------------------------------------------------\u001b[0m\n"
          ],
          "errorDetails": {
            "actions": [
              {
                "action": "open_url",
                "actionText": "Open Examples",
                "url": "/notebooks/snippets/importing_libraries.ipynb"
              }
            ]
          }
        }
      ]
    },
    {
      "cell_type": "code",
      "source": [
        "# 17. Write a Python program to create and write a list of numbers to a file, one number per line\n",
        "\n",
        "# List of numbers\n",
        "numbers = [10, 20, 30, 40, 50]\n",
        "\n",
        "# Open a file in write mode\n",
        "with open(\"numbers.txt\", \"w\") as file:\n",
        "    for num in numbers:\n",
        "        file.write(str(num) + \"\\n\")  # Write each number on a new line\n",
        "\n",
        "print(\"Numbers have been written to numbers.txt successfully.\")"
      ],
      "metadata": {
        "colab": {
          "base_uri": "https://localhost:8080/"
        },
        "id": "2PRvWjqZxajG",
        "outputId": "380f3d9d-3b3a-4d12-ca36-2f165f8f8d40"
      },
      "execution_count": 21,
      "outputs": [
        {
          "output_type": "stream",
          "name": "stdout",
          "text": [
            "Numbers have been written to numbers.txt successfully.\n"
          ]
        }
      ]
    },
    {
      "cell_type": "code",
      "source": [
        "# 18. How would you implement a basic logging setup that logs to a file with rotation after 1MB\n",
        "\n",
        "import logging\n",
        "from logging.handlers import RotatingFileHandler\n",
        "\n",
        "# Create a rotating file handler\n",
        "handler = RotatingFileHandler(\"app_rotating.log\", maxBytes=1_000_000, backupCount=3)\n",
        "handler.setLevel(logging.DEBUG)\n",
        "\n",
        "# Define the log format\n",
        "formatter = logging.Formatter(\"%(asctime)s - %(levelname)s - %(message)s\")\n",
        "handler.setFormatter(formatter)\n",
        "\n",
        "# Create a logger and add the handler\n",
        "logger = logging.getLogger(\"MyLogger\")\n",
        "logger.setLevel(logging.DEBUG)\n",
        "logger.addHandler(handler)\n",
        "\n",
        "# Log some messages\n",
        "logger.info(\"This is an info message.\")\n",
        "logger.warning(\"This is a warning message.\")\n",
        "logger.error(\"This is an error message.\")"
      ],
      "metadata": {
        "colab": {
          "base_uri": "https://localhost:8080/"
        },
        "id": "3mnZTWbOzw6D",
        "outputId": "bd1332f5-a89b-4214-fcd9-5dd2e9dfd17d"
      },
      "execution_count": 24,
      "outputs": [
        {
          "output_type": "stream",
          "name": "stderr",
          "text": [
            "INFO:MyLogger:This is an info message.\n",
            "WARNING:MyLogger:This is a warning message.\n",
            "ERROR:MyLogger:This is an error message.\n"
          ]
        }
      ]
    },
    {
      "cell_type": "code",
      "source": [
        "# 19. Write a program that handles both IndexError and KeyError using a try-except block\n",
        "\n",
        "# Sample list and dictionary\n",
        "my_list = [1, 2, 3]\n",
        "my_dict = {\"name\": \"John\", \"age\": 30}\n",
        "\n",
        "try:\n",
        "    # Attempt to access a list element that may not exist\n",
        "    print(\"List element:\", my_list[5])\n",
        "\n",
        "    # Attempt to access a dictionary key that may not exist\n",
        "    print(\"Dictionary value:\", my_dict[\"address\"])\n",
        "\n",
        "except IndexError:\n",
        "    print(\"Error: List index is out of range!\")\n",
        "\n",
        "except KeyError:\n",
        "    print(\"Error: The key does not exist in the dictionary.\")"
      ],
      "metadata": {
        "colab": {
          "base_uri": "https://localhost:8080/"
        },
        "id": "ZRueCwaD0HQt",
        "outputId": "44e09c8b-1c48-4f13-8e12-47c32673b268"
      },
      "execution_count": 25,
      "outputs": [
        {
          "output_type": "stream",
          "name": "stdout",
          "text": [
            "Error: List index is out of range!\n"
          ]
        }
      ]
    },
    {
      "cell_type": "code",
      "source": [
        "# 20. How would you open a file and read its contents using a context manager in Python\n",
        "\n",
        "# Create a sample file first\n",
        "with open(\"sample.txt\", \"w\") as file:\n",
        "    file.write(\"Line 1: Hello Python\\n\")\n",
        "    file.write(\"Line 2: Context manager example\\n\")\n",
        "\n",
        "# Open and read the file using a context manager\n",
        "with open(\"sample.txt\", \"r\") as file:\n",
        "    content = file.read()\n",
        "    print(content)"
      ],
      "metadata": {
        "colab": {
          "base_uri": "https://localhost:8080/"
        },
        "id": "XzjB06_u0ryn",
        "outputId": "2dbe8693-eee8-4d89-e34a-0d50c4af44bb"
      },
      "execution_count": 26,
      "outputs": [
        {
          "output_type": "stream",
          "name": "stdout",
          "text": [
            "Line 1: Hello Python\n",
            "Line 2: Context manager example\n",
            "\n"
          ]
        }
      ]
    },
    {
      "cell_type": "code",
      "source": [
        "# 21. Write a Python program that reads a file and prints the number of occurrences of a specific word\n",
        "\n",
        "# Create a sample file\n",
        "with open(\"sample.txt\", \"w\") as file:\n",
        "    file.write(\"Python is fun.\\n\")\n",
        "    file.write(\"Learning Python is easy.\\n\")\n",
        "    file.write(\"Python Python Python!\\n\")\n",
        "\n",
        "# Word to count\n",
        "word_to_count = \"Python\"\n",
        "\n",
        "# Read the file and count the occurrences\n",
        "with open(\"sample.txt\", \"r\") as file:\n",
        "    content = file.read()\n",
        "    count = content.count(word_to_count)\n",
        "\n",
        "print(f\"The word '{word_to_count}' occurs {count} times in the file.\")"
      ],
      "metadata": {
        "colab": {
          "base_uri": "https://localhost:8080/"
        },
        "id": "NQGvNANR02V-",
        "outputId": "b0308b0e-60f4-4921-e5e9-6fb07a9a3047"
      },
      "execution_count": 27,
      "outputs": [
        {
          "output_type": "stream",
          "name": "stdout",
          "text": [
            "The word 'Python' occurs 5 times in the file.\n"
          ]
        }
      ]
    },
    {
      "cell_type": "code",
      "source": [
        "# 22. How can you check if a file is empty before attempting to read its contents\n",
        "\n",
        "import os\n",
        "\n",
        "filename = \"sample.txt\"\n",
        "\n",
        "with open(filename, \"w\") as file:\n",
        "    pass\n",
        "\n",
        "if os.path.getsize(filename) > 0:\n",
        "    with open(filename, \"r\") as file:\n",
        "        content = file.read()\n",
        "        print(\"File content:\\n\", content)\n",
        "else:\n",
        "    print(\"The file is empty.\")"
      ],
      "metadata": {
        "colab": {
          "base_uri": "https://localhost:8080/"
        },
        "id": "9mYKV2gd1Bz0",
        "outputId": "3f2f5104-7c64-4fb9-ed28-bf927c93e790"
      },
      "execution_count": 29,
      "outputs": [
        {
          "output_type": "stream",
          "name": "stdout",
          "text": [
            "The file is empty.\n"
          ]
        }
      ]
    },
    {
      "cell_type": "code",
      "source": [
        "# 23. Write a Python program that writes to a log file when an error occurs during file handling\n",
        "\n",
        "import logging\n",
        "\n",
        "# Configure logging to write errors to a file\n",
        "logging.basicConfig(filename=\"file_errors.log\",\n",
        "                    level=logging.ERROR,\n",
        "                    format=\"%(asctime)s - %(levelname)s - %(message)s\")\n",
        "\n",
        "try:\n",
        "    # Attempt to open a file that may not exist\n",
        "    with open(\"missing_file.txt\", \"r\") as file:\n",
        "        content = file.read()\n",
        "except Exception as e:\n",
        "    logging.error(\"An error occurred while handling the file: %s\", e)\n",
        "    print(\"An error occurred. Check 'file_errors.log' for details.\")\n"
      ],
      "metadata": {
        "colab": {
          "base_uri": "https://localhost:8080/"
        },
        "id": "KZGTfEwt1hUm",
        "outputId": "aa97ebbe-3de0-423a-df75-1fbe8e0861ea"
      },
      "execution_count": 31,
      "outputs": [
        {
          "output_type": "stream",
          "name": "stderr",
          "text": [
            "ERROR:root:An error occurred while handling the file: [Errno 2] No such file or directory: 'missing_file.txt'\n"
          ]
        },
        {
          "output_type": "stream",
          "name": "stdout",
          "text": [
            "An error occurred. Check 'file_errors.log' for details.\n"
          ]
        }
      ]
    }
  ]
}